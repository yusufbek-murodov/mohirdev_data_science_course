{
  "nbformat": 4,
  "nbformat_minor": 0,
  "metadata": {
    "colab": {
      "provenance": [],
      "authorship_tag": "ABX9TyMQYEh0mcAVAUb2z7JfiAnP",
      "include_colab_link": true
    },
    "kernelspec": {
      "name": "python3",
      "display_name": "Python 3"
    },
    "language_info": {
      "name": "python"
    }
  },
  "cells": [
    {
      "cell_type": "markdown",
      "metadata": {
        "id": "view-in-github",
        "colab_type": "text"
      },
      "source": [
        "<a href=\"https://colab.research.google.com/github/yusufbek-murodov/pandas-lessons/blob/main/fillna.ipynb\" target=\"_parent\"><img src=\"https://colab.research.google.com/assets/colab-badge.svg\" alt=\"Open In Colab\"/></a>"
      ]
    },
    {
      "cell_type": "code",
      "execution_count": null,
      "metadata": {
        "id": "br4_377Ocsof"
      },
      "outputs": [],
      "source": [
        "import pandas as pd\n",
        "import numpy as np"
      ]
    },
    {
      "cell_type": "code",
      "source": [
        "df = pd.read_csv(\"https://github.com/anvarnarz/praktikum_datasets/raw/main/automobile_data_nan.csv\", index_col=0)\n",
        "df.head()"
      ],
      "metadata": {
        "id": "et67i6l0czez"
      },
      "execution_count": null,
      "outputs": []
    },
    {
      "cell_type": "code",
      "source": [
        "df.fillna(0)"
      ],
      "metadata": {
        "id": "xv-Ka900c04B"
      },
      "execution_count": null,
      "outputs": []
    },
    {
      "cell_type": "code",
      "source": [
        "df.fillna({'wheel-base': 90, 'horsepower': 100})"
      ],
      "metadata": {
        "id": "HwoS1uhfc9fX"
      },
      "execution_count": null,
      "outputs": []
    },
    {
      "cell_type": "code",
      "source": [
        "df[df.company=='audi']"
      ],
      "metadata": {
        "id": "DeEpyYUEdHAj"
      },
      "execution_count": null,
      "outputs": []
    },
    {
      "cell_type": "code",
      "source": [
        "df[df.company=='audi'].fillna(method='ffill')"
      ],
      "metadata": {
        "id": "AIwVoW4NfK0L"
      },
      "execution_count": null,
      "outputs": []
    },
    {
      "cell_type": "code",
      "source": [
        "df[df.company=='toyota']"
      ],
      "metadata": {
        "id": "jQwyJHn5fRZE"
      },
      "execution_count": null,
      "outputs": []
    },
    {
      "cell_type": "code",
      "source": [
        "df[df.company=='toyota'].fillna(method='bfill')"
      ],
      "metadata": {
        "id": "u4IDVNL5fa-l"
      },
      "execution_count": null,
      "outputs": []
    },
    {
      "cell_type": "code",
      "source": [
        "df[df.company=='toyota'] = df[df.company=='toyota'].fillna(method='bfill')"
      ],
      "metadata": {
        "id": "Ji1ED5vxfdBA"
      },
      "execution_count": null,
      "outputs": []
    },
    {
      "cell_type": "code",
      "source": [
        "df[df.company=='toyota']"
      ],
      "metadata": {
        "id": "tS3aAxFgfn5U"
      },
      "execution_count": null,
      "outputs": []
    },
    {
      "cell_type": "code",
      "source": [
        "dfh = df[df['body-style']=='hatchback']\n",
        "dfh"
      ],
      "metadata": {
        "id": "OWNbToy0fpUr"
      },
      "execution_count": null,
      "outputs": []
    },
    {
      "cell_type": "code",
      "source": [],
      "metadata": {
        "id": "_W3G1xOHf6FK"
      },
      "execution_count": null,
      "outputs": []
    },
    {
      "cell_type": "code",
      "source": [
        "dfh[dfh.select_dtypes(include='number').columns]"
      ],
      "metadata": {
        "id": "LaWkLEBgg8BZ"
      },
      "execution_count": null,
      "outputs": []
    },
    {
      "cell_type": "code",
      "source": [],
      "metadata": {
        "id": "9M2vqO7UhEFm"
      },
      "execution_count": null,
      "outputs": []
    }
  ]
}